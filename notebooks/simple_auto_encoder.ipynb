{
 "cells": [
  {
   "cell_type": "code",
   "execution_count": 11,
   "metadata": {
    "_cell_guid": "b1076dfc-b9ad-4769-8c92-a6c4dae69d19",
    "_uuid": "8f2839f25d086af736a60e9eeb907d3b93b6e0e5"
   },
   "outputs": [],
   "source": [
    "# This Python 3 environment comes with many helpful analytics libraries installed\n",
    "# It is defined by the kaggle/python docker image: https://github.com/kaggle/docker-python\n",
    "# For example, here's several helpful packages to load in \n",
    "\n",
    "import numpy as np # linear algebra\n",
    "import pandas as pd # data processing, CSV file I/O (e.g. pd.read_csv)\n",
    "import matplotlib.pyplot as plt\n",
    "from pprint import pprint\n",
    "import os.path as pth\n",
    "\n",
    "import gzip\n",
    "import pickle\n",
    "\n",
    "from tensorflow.keras import Input, Model\n",
    "from tensorflow.keras.layers import Dense, Conv2D, MaxPool2D, UpSampling2D, Add, Flatten, Reshape\n",
    "from tensorflow.keras.utils import Sequence\n",
    "\n",
    "from sklearn.model_selection import train_test_split, KFold, GroupKFold"
   ]
  },
  {
   "cell_type": "markdown",
   "metadata": {
    "_cell_guid": "79c7e3d0-c299-4dcb-8224-4455121ee9b0",
    "_uuid": "d629ff2d2480ee46fbb7e2d37f6b5fab8052498a"
   },
   "source": [
    "for dirname, _, filenames in os.walk('/kaggle/input'):\n",
    "    for filename in filenames:\n",
    "        print(os.path.join(dirname, filename))"
   ]
  },
  {
   "cell_type": "code",
   "execution_count": 2,
   "metadata": {},
   "outputs": [],
   "source": [
    "ROOT_DIR = '../data'\n",
    "TRAIN_IMG_DIR = pth.join(ROOT_DIR, 'original/train_images')\n",
    "TRAIN_DATA_DIR = ROOT_DIR\n",
    "\n",
    "WIDTH=1600\n",
    "HEIGHT=256"
   ]
  },
  {
   "cell_type": "code",
   "execution_count": 3,
   "metadata": {},
   "outputs": [
    {
     "name": "stderr",
     "output_type": "stream",
     "text": [
      "/home/gautham/apps/anaconda3/envs/kaggle/lib/python3.7/site-packages/pyarrow/pandas_compat.py:752: FutureWarning: .labels was deprecated in version 0.24.0. Use .codes instead.\n",
      "  labels, = index.labels\n"
     ]
    }
   ],
   "source": [
    "data = pd.read_feather(pth.join(TRAIN_DATA_DIR, 'train.feather'))"
   ]
  },
  {
   "cell_type": "code",
   "execution_count": 4,
   "metadata": {},
   "outputs": [
    {
     "data": {
      "text/html": [
       "<div>\n",
       "<style scoped>\n",
       "    .dataframe tbody tr th:only-of-type {\n",
       "        vertical-align: middle;\n",
       "    }\n",
       "\n",
       "    .dataframe tbody tr th {\n",
       "        vertical-align: top;\n",
       "    }\n",
       "\n",
       "    .dataframe thead th {\n",
       "        text-align: right;\n",
       "    }\n",
       "</style>\n",
       "<table border=\"1\" class=\"dataframe\">\n",
       "  <thead>\n",
       "    <tr style=\"text-align: right;\">\n",
       "      <th></th>\n",
       "      <th>imageid</th>\n",
       "      <th>classid</th>\n",
       "      <th>mask_present</th>\n",
       "    </tr>\n",
       "  </thead>\n",
       "  <tbody>\n",
       "    <tr>\n",
       "      <th>0</th>\n",
       "      <td>0002cc93b</td>\n",
       "      <td>1</td>\n",
       "      <td>True</td>\n",
       "    </tr>\n",
       "    <tr>\n",
       "      <th>1</th>\n",
       "      <td>0002cc93b</td>\n",
       "      <td>2</td>\n",
       "      <td>False</td>\n",
       "    </tr>\n",
       "    <tr>\n",
       "      <th>2</th>\n",
       "      <td>0002cc93b</td>\n",
       "      <td>3</td>\n",
       "      <td>False</td>\n",
       "    </tr>\n",
       "    <tr>\n",
       "      <th>3</th>\n",
       "      <td>0002cc93b</td>\n",
       "      <td>4</td>\n",
       "      <td>False</td>\n",
       "    </tr>\n",
       "    <tr>\n",
       "      <th>4</th>\n",
       "      <td>00031f466</td>\n",
       "      <td>1</td>\n",
       "      <td>False</td>\n",
       "    </tr>\n",
       "  </tbody>\n",
       "</table>\n",
       "</div>"
      ],
      "text/plain": [
       "     imageid  classid  mask_present\n",
       "0  0002cc93b        1          True\n",
       "1  0002cc93b        2         False\n",
       "2  0002cc93b        3         False\n",
       "3  0002cc93b        4         False\n",
       "4  00031f466        1         False"
      ]
     },
     "execution_count": 4,
     "metadata": {},
     "output_type": "execute_result"
    }
   ],
   "source": [
    "data.head()"
   ]
  },
  {
   "cell_type": "code",
   "execution_count": 5,
   "metadata": {},
   "outputs": [],
   "source": [
    "with gzip.open(pth.join(TRAIN_DATA_DIR, 'train_masks.pickle.gz'), 'rb') as f:\n",
    "    image_masks = pickle.load(f)"
   ]
  },
  {
   "cell_type": "code",
   "execution_count": 6,
   "metadata": {},
   "outputs": [
    {
     "name": "stderr",
     "output_type": "stream",
     "text": [
      "WARNING: Logging before flag parsing goes to stderr.\n",
      "W0904 02:48:43.593739 140230431770432 deprecation.py:506] From /home/gautham/apps/anaconda3/envs/kaggle/lib/python3.7/site-packages/tensorflow/python/ops/init_ops.py:1251: calling VarianceScaling.__init__ (from tensorflow.python.ops.init_ops) with dtype is deprecated and will be removed in a future version.\n",
      "Instructions for updating:\n",
      "Call initializer instance with the dtype argument instead of passing it to the constructor\n"
     ]
    },
    {
     "name": "stdout",
     "output_type": "stream",
     "text": [
      "Model: \"model\"\n",
      "__________________________________________________________________________________________________\n",
      "Layer (type)                    Output Shape         Param #     Connected to                     \n",
      "==================================================================================================\n",
      "input_1 (InputLayer)            [(None, 256, 1600, 1 0                                            \n",
      "__________________________________________________________________________________________________\n",
      "conv2d (Conv2D)                 (None, 256, 1600, 16 32          input_1[0][0]                    \n",
      "__________________________________________________________________________________________________\n",
      "conv2d_2 (Conv2D)               (None, 256, 1600, 16 32          input_1[0][0]                    \n",
      "__________________________________________________________________________________________________\n",
      "conv2d_4 (Conv2D)               (None, 256, 1600, 16 32          input_1[0][0]                    \n",
      "__________________________________________________________________________________________________\n",
      "conv2d_1 (Conv2D)               (None, 256, 1600, 16 2320        conv2d[0][0]                     \n",
      "__________________________________________________________________________________________________\n",
      "conv2d_3 (Conv2D)               (None, 256, 1600, 16 6416        conv2d_2[0][0]                   \n",
      "__________________________________________________________________________________________________\n",
      "conv2d_5 (Conv2D)               (None, 256, 1600, 16 12560       conv2d_4[0][0]                   \n",
      "__________________________________________________________________________________________________\n",
      "add (Add)                       (None, 256, 1600, 16 0           conv2d_1[0][0]                   \n",
      "                                                                 conv2d_3[0][0]                   \n",
      "                                                                 conv2d_5[0][0]                   \n",
      "__________________________________________________________________________________________________\n",
      "max_pooling2d (MaxPooling2D)    (None, 128, 400, 16) 0           add[0][0]                        \n",
      "__________________________________________________________________________________________________\n",
      "conv2d_6 (Conv2D)               (None, 128, 400, 16) 272         max_pooling2d[0][0]              \n",
      "__________________________________________________________________________________________________\n",
      "conv2d_8 (Conv2D)               (None, 128, 400, 16) 272         max_pooling2d[0][0]              \n",
      "__________________________________________________________________________________________________\n",
      "conv2d_10 (Conv2D)              (None, 128, 400, 16) 272         max_pooling2d[0][0]              \n",
      "__________________________________________________________________________________________________\n",
      "conv2d_7 (Conv2D)               (None, 128, 400, 16) 2320        conv2d_6[0][0]                   \n",
      "__________________________________________________________________________________________________\n",
      "conv2d_9 (Conv2D)               (None, 128, 400, 16) 6416        conv2d_8[0][0]                   \n",
      "__________________________________________________________________________________________________\n",
      "conv2d_11 (Conv2D)              (None, 128, 400, 16) 12560       conv2d_10[0][0]                  \n",
      "__________________________________________________________________________________________________\n",
      "add_1 (Add)                     (None, 128, 400, 16) 0           conv2d_7[0][0]                   \n",
      "                                                                 conv2d_9[0][0]                   \n",
      "                                                                 conv2d_11[0][0]                  \n",
      "__________________________________________________________________________________________________\n",
      "max_pooling2d_1 (MaxPooling2D)  (None, 64, 100, 16)  0           add_1[0][0]                      \n",
      "__________________________________________________________________________________________________\n",
      "up_sampling2d (UpSampling2D)    (None, 128, 400, 16) 0           max_pooling2d_1[0][0]            \n",
      "__________________________________________________________________________________________________\n",
      "up_sampling2d_2 (UpSampling2D)  (None, 128, 400, 16) 0           max_pooling2d_1[0][0]            \n",
      "__________________________________________________________________________________________________\n",
      "up_sampling2d_4 (UpSampling2D)  (None, 128, 400, 16) 0           max_pooling2d_1[0][0]            \n",
      "__________________________________________________________________________________________________\n",
      "up_sampling2d_6 (UpSampling2D)  (None, 128, 400, 16) 0           max_pooling2d_1[0][0]            \n",
      "__________________________________________________________________________________________________\n",
      "conv2d_12 (Conv2D)              (None, 128, 400, 16) 2320        up_sampling2d[0][0]              \n",
      "__________________________________________________________________________________________________\n",
      "conv2d_14 (Conv2D)              (None, 128, 400, 16) 2320        up_sampling2d_2[0][0]            \n",
      "__________________________________________________________________________________________________\n",
      "conv2d_16 (Conv2D)              (None, 128, 400, 16) 2320        up_sampling2d_4[0][0]            \n",
      "__________________________________________________________________________________________________\n",
      "conv2d_18 (Conv2D)              (None, 128, 400, 16) 2320        up_sampling2d_6[0][0]            \n",
      "__________________________________________________________________________________________________\n",
      "up_sampling2d_1 (UpSampling2D)  (None, 256, 1600, 16 0           conv2d_12[0][0]                  \n",
      "__________________________________________________________________________________________________\n",
      "up_sampling2d_3 (UpSampling2D)  (None, 256, 1600, 16 0           conv2d_14[0][0]                  \n",
      "__________________________________________________________________________________________________\n",
      "up_sampling2d_5 (UpSampling2D)  (None, 256, 1600, 16 0           conv2d_16[0][0]                  \n",
      "__________________________________________________________________________________________________\n",
      "up_sampling2d_7 (UpSampling2D)  (None, 256, 1600, 16 0           conv2d_18[0][0]                  \n",
      "__________________________________________________________________________________________________\n",
      "conv2d_13 (Conv2D)              (None, 256, 1600, 1) 145         up_sampling2d_1[0][0]            \n",
      "__________________________________________________________________________________________________\n",
      "conv2d_15 (Conv2D)              (None, 256, 1600, 1) 145         up_sampling2d_3[0][0]            \n",
      "__________________________________________________________________________________________________\n",
      "conv2d_17 (Conv2D)              (None, 256, 1600, 1) 145         up_sampling2d_5[0][0]            \n",
      "__________________________________________________________________________________________________\n",
      "conv2d_19 (Conv2D)              (None, 256, 1600, 1) 145         up_sampling2d_7[0][0]            \n",
      "==================================================================================================\n",
      "Total params: 53,364\n",
      "Trainable params: 53,364\n",
      "Non-trainable params: 0\n",
      "__________________________________________________________________________________________________\n"
     ]
    }
   ],
   "source": [
    "def create_inception_pair(num_filters, kernel_size, input_layer):\n",
    "    l = Conv2D(num_filters, (1, 1), padding='same', activation='relu')(input_layer)\n",
    "    return Conv2D(num_filters, (kernel_size, kernel_size), padding='same', activation='relu')(l)\n",
    "\n",
    "def create_inception_layer(num_filters, input_layer):\n",
    "    l_3x3 = create_inception_pair(num_filters, 3, input_layer)\n",
    "    l_5x5 = create_inception_pair(num_filters, 5, input_layer)\n",
    "    l_7x7 = create_inception_pair(num_filters, 7, input_layer)\n",
    "    \n",
    "    return Add()([l_3x3, l_5x5, l_7x7])\n",
    "\n",
    "def up_sampler(num_filters, input_layer):\n",
    "    l = UpSampling2D((2, 4))(input_layer)\n",
    "    l = Conv2D(num_filters, (3, 3), padding='same', activation='relu')(l)\n",
    "    \n",
    "    #l = UpSampling2D((2, 4))(l)\n",
    "    #l = Conv2D(num_filters, (3, 3), padding='same', activation='relu')(l)\n",
    "    \n",
    "    l = UpSampling2D((2, 4))(l)\n",
    "    l = Conv2D(1, (3, 3), padding='same', activation='relu')(l)\n",
    "    \n",
    "    return l\n",
    "\n",
    "def create_model():\n",
    "    input_img = Input((HEIGHT, WIDTH, 1), dtype='float32')\n",
    "\n",
    "    x = create_inception_layer(16, input_img)\n",
    "    x = MaxPool2D((2, 4))(x)\n",
    "\n",
    "    #x = create_inception_layer(16, x)\n",
    "    #x = MaxPool2D((2, 4))(x)\n",
    "    \n",
    "    x = create_inception_layer(16, x)\n",
    "    mid = MaxPool2D((2, 4))(x)\n",
    "\n",
    "    o1 = up_sampler(16, mid)\n",
    "    o2 = up_sampler(16, mid)\n",
    "    o3 = up_sampler(16, mid)\n",
    "    o4 = up_sampler(16, mid)\n",
    "    \n",
    "    model = Model(inputs=input_img, outputs=[o1, o2, o3, o4])\n",
    "    model.compile(optimizer='adam', loss='binary_crossentropy')\n",
    "    \n",
    "    return model\n",
    "\n",
    "model = create_model()\n",
    "model.summary()"
   ]
  },
  {
   "cell_type": "code",
   "execution_count": 21,
   "metadata": {},
   "outputs": [
    {
     "data": {
      "text/plain": [
       "(75, 25)"
      ]
     },
     "execution_count": 21,
     "metadata": {},
     "output_type": "execute_result"
    }
   ],
   "source": [
    "image_groups = data.groupby('imageid')\n",
    "\n",
    "image_names = list(data.imageid.unique())[0:100]\n",
    "train_cv_image_names, test_image_names = train_test_split(image_names)\n",
    "len(train_cv_image_names), len(test_image_names)"
   ]
  },
  {
   "cell_type": "code",
   "execution_count": 8,
   "metadata": {},
   "outputs": [],
   "source": [
    "import math\n",
    "\n",
    "class ImageLoader(Sequence):\n",
    "    def __init__(self, image_names, image_groups, image_masks, batch_size):\n",
    "        self.image_names = image_names\n",
    "        self.image_groups = image_groups\n",
    "        self.image_masks = image_masks\n",
    "        \n",
    "        self.batch_size = batch_size\n",
    "        \n",
    "        self.image_cache = {}\n",
    "        \n",
    "       \n",
    "        \n",
    "    def __len__(self):\n",
    "        return math.ceil(len(self.image_names) / self.batch_size)\n",
    "    \n",
    "    def __getitem__(self, idx):\n",
    "#         for n in self.image_names[0:3]:\n",
    "#             image_group = self.image_groups.get_group(n)\n",
    "#             print(n)\n",
    "#             for row in image_group.itertuples():\n",
    "#                 print('    ', row.classid)\n",
    "            \n",
    "#         return\n",
    "        \n",
    "        start = idx * self.batch_size\n",
    "        end = (idx + 1) * self.batch_size\n",
    "        \n",
    "        if end > len(self.image_names):\n",
    "            end = len(self.image_names)\n",
    "            \n",
    "        size = end - start\n",
    "        \n",
    "        img = np.zeros((size, HEIGHT, WIDTH, 1), dtype='float32')\n",
    "        masks = np.zeros((4, size, HEIGHT, WIDTH, 1), dtype='float32')\n",
    "\n",
    "        for i, imageid in enumerate(self.image_names[start:end]):\n",
    "            im = self.get_image(imageid)\n",
    "            im /= 255\n",
    "            img[i, :, :, 0] = im[:, :, 0]\n",
    "            \n",
    "            image_group = self.image_groups.get_group(imageid)\n",
    "            for row in image_group.itertuples():\n",
    "                if row.mask_present:\n",
    "                    key = f'{imageid}_{row.classid}'\n",
    "                    mask = self.image_masks[key].astype('float32')\n",
    "                    masks[row.classid - 1, i, :, :, 0] = mask\n",
    "            \n",
    "        return img, [masks[0], masks[1], masks[2], masks[3]]\n",
    "    \n",
    "    def get_image(self, imageid):\n",
    "        if imageid not in self.image_cache:\n",
    "            im = plt.imread(pth.join(TRAIN_IMG_DIR, f'{imageid}.jpg')).astype('float32')\n",
    "            im /= 255\n",
    "            self.image_cache[imageid] = im\n",
    "            \n",
    "        return self.image_cache[imageid]\n",
    "            \n"
   ]
  },
  {
   "cell_type": "code",
   "execution_count": 22,
   "metadata": {},
   "outputs": [
    {
     "name": "stdout",
     "output_type": "stream",
     "text": [
      "Epoch 1/5\n",
      "8/8 [==============================] - 7s 834ms/step - loss: 0.5813 - conv2d_13_loss: 0.0157 - conv2d_15_loss: 0.0101 - conv2d_17_loss: 0.5003 - conv2d_19_loss: 0.0530 - val_loss: 0.7819 - val_conv2d_13_loss: 0.0214 - val_conv2d_15_loss: 0.0000e+00 - val_conv2d_17_loss: 0.7471 - val_conv2d_19_loss: 0.0134\n",
      "Epoch 2/5\n",
      "8/8 [==============================] - 4s 530ms/step - loss: 0.5809 - conv2d_13_loss: 0.0157 - conv2d_15_loss: 0.0101 - conv2d_17_loss: 0.5003 - conv2d_19_loss: 0.0526 - val_loss: 0.7790 - val_conv2d_13_loss: 0.0214 - val_conv2d_15_loss: 0.0000e+00 - val_conv2d_17_loss: 0.7471 - val_conv2d_19_loss: 0.0105\n",
      "Epoch 3/5\n",
      "8/8 [==============================] - 4s 530ms/step - loss: 0.6730 - conv2d_13_loss: 0.0157 - conv2d_15_loss: 0.0101 - conv2d_17_loss: 0.5003 - conv2d_19_loss: 0.1439 - val_loss: 0.7787 - val_conv2d_13_loss: 0.0214 - val_conv2d_15_loss: 0.0000e+00 - val_conv2d_17_loss: 0.7471 - val_conv2d_19_loss: 0.0102\n",
      "Epoch 4/5\n",
      "8/8 [==============================] - 4s 531ms/step - loss: 0.6713 - conv2d_13_loss: 0.0157 - conv2d_15_loss: 0.0101 - conv2d_17_loss: 0.5003 - conv2d_19_loss: 0.1422 - val_loss: 0.7787 - val_conv2d_13_loss: 0.0214 - val_conv2d_15_loss: 0.0000e+00 - val_conv2d_17_loss: 0.7471 - val_conv2d_19_loss: 0.0102\n",
      "Epoch 5/5\n",
      "8/8 [==============================] - 4s 526ms/step - loss: 0.6713 - conv2d_13_loss: 0.0157 - conv2d_15_loss: 0.0101 - conv2d_17_loss: 0.5003 - conv2d_19_loss: 0.1422 - val_loss: 0.7787 - val_conv2d_13_loss: 0.0214 - val_conv2d_15_loss: 0.0000e+00 - val_conv2d_17_loss: 0.7471 - val_conv2d_19_loss: 0.0102\n",
      "Epoch 1/5\n",
      "8/8 [==============================] - 5s 564ms/step - loss: 0.6611 - conv2d_13_loss: 0.0204 - conv2d_15_loss: 0.0052 - conv2d_17_loss: 0.5711 - conv2d_19_loss: 0.0616 - val_loss: 0.8846 - val_conv2d_13_loss: 0.0029 - val_conv2d_15_loss: 0.0196 - val_conv2d_17_loss: 0.4836 - val_conv2d_19_loss: 0.3785\n",
      "Epoch 2/5\n",
      "8/8 [==============================] - 4s 529ms/step - loss: 0.5363 - conv2d_13_loss: 0.0204 - conv2d_15_loss: 0.0052 - conv2d_17_loss: 0.4473 - conv2d_19_loss: 0.0616 - val_loss: 0.5446 - val_conv2d_13_loss: 0.0029 - val_conv2d_15_loss: 0.0196 - val_conv2d_17_loss: 0.1440 - val_conv2d_19_loss: 0.3781\n",
      "Epoch 3/5\n",
      "8/8 [==============================] - 4s 538ms/step - loss: 0.2596 - conv2d_13_loss: 0.0203 - conv2d_15_loss: 0.0052 - conv2d_17_loss: 0.1716 - conv2d_19_loss: 0.0616 - val_loss: 0.5581 - val_conv2d_13_loss: 0.0029 - val_conv2d_15_loss: 0.0196 - val_conv2d_17_loss: 0.1575 - val_conv2d_19_loss: 0.3782\n",
      "Epoch 4/5\n",
      "8/8 [==============================] - 4s 529ms/step - loss: 0.2542 - conv2d_13_loss: 0.0204 - conv2d_15_loss: 0.0052 - conv2d_17_loss: 0.1662 - conv2d_19_loss: 0.0616 - val_loss: 0.5401 - val_conv2d_13_loss: 0.0029 - val_conv2d_15_loss: 0.0196 - val_conv2d_17_loss: 0.1395 - val_conv2d_19_loss: 0.3781\n",
      "Epoch 5/5\n",
      "8/8 [==============================] - 4s 536ms/step - loss: 0.2516 - conv2d_13_loss: 0.0204 - conv2d_15_loss: 0.0052 - conv2d_17_loss: 0.1636 - conv2d_19_loss: 0.0615 - val_loss: 0.5451 - val_conv2d_13_loss: 0.0029 - val_conv2d_15_loss: 0.0196 - val_conv2d_17_loss: 0.1441 - val_conv2d_19_loss: 0.3785\n",
      "Epoch 1/5\n",
      "8/8 [==============================] - 5s 565ms/step - loss: 0.2887 - conv2d_13_loss: 0.0190 - conv2d_15_loss: 0.0101 - conv2d_17_loss: 0.1544 - conv2d_19_loss: 0.1039 - val_loss: 0.3299 - val_conv2d_13_loss: 0.0085 - val_conv2d_15_loss: 0.0000e+00 - val_conv2d_17_loss: 0.1583 - val_conv2d_19_loss: 0.1631\n",
      "Epoch 2/5\n",
      "8/8 [==============================] - 4s 535ms/step - loss: 0.2902 - conv2d_13_loss: 0.0190 - conv2d_15_loss: 0.0101 - conv2d_17_loss: 0.1559 - conv2d_19_loss: 0.1039 - val_loss: 0.3318 - val_conv2d_13_loss: 0.0085 - val_conv2d_15_loss: 0.0000e+00 - val_conv2d_17_loss: 0.1602 - val_conv2d_19_loss: 0.1631\n",
      "Epoch 3/5\n",
      "8/8 [==============================] - 4s 536ms/step - loss: 0.2882 - conv2d_13_loss: 0.0190 - conv2d_15_loss: 0.0101 - conv2d_17_loss: 0.1539 - conv2d_19_loss: 0.1039 - val_loss: 0.3304 - val_conv2d_13_loss: 0.0085 - val_conv2d_15_loss: 0.0000e+00 - val_conv2d_17_loss: 0.1588 - val_conv2d_19_loss: 0.1631\n",
      "Epoch 4/5\n",
      "8/8 [==============================] - 4s 531ms/step - loss: 0.2873 - conv2d_13_loss: 0.0190 - conv2d_15_loss: 0.0101 - conv2d_17_loss: 0.1530 - conv2d_19_loss: 0.1039 - val_loss: 0.3302 - val_conv2d_13_loss: 0.0085 - val_conv2d_15_loss: 0.0000e+00 - val_conv2d_17_loss: 0.1586 - val_conv2d_19_loss: 0.1631\n",
      "Epoch 5/5\n",
      "8/8 [==============================] - 4s 540ms/step - loss: 0.2858 - conv2d_13_loss: 0.0190 - conv2d_15_loss: 0.0101 - conv2d_17_loss: 0.1515 - conv2d_19_loss: 0.1039 - val_loss: 0.3302 - val_conv2d_13_loss: 0.0085 - val_conv2d_15_loss: 0.0000e+00 - val_conv2d_17_loss: 0.1586 - val_conv2d_19_loss: 0.1631\n",
      "Epoch 1/5\n",
      "8/8 [==============================] - 5s 569ms/step - loss: 0.2995 - conv2d_13_loss: 0.0132 - conv2d_15_loss: 0.0075 - conv2d_17_loss: 0.1409 - conv2d_19_loss: 0.1366 - val_loss: 0.2908 - val_conv2d_13_loss: 0.0342 - val_conv2d_15_loss: 0.0104 - val_conv2d_17_loss: 0.2093 - val_conv2d_19_loss: 0.0368\n",
      "Epoch 2/5\n",
      "8/8 [==============================] - 4s 537ms/step - loss: 0.3007 - conv2d_13_loss: 0.0132 - conv2d_15_loss: 0.0075 - conv2d_17_loss: 0.1421 - conv2d_19_loss: 0.1365 - val_loss: 0.2893 - val_conv2d_13_loss: 0.0342 - val_conv2d_15_loss: 0.0104 - val_conv2d_17_loss: 0.2078 - val_conv2d_19_loss: 0.0369\n",
      "Epoch 3/5\n",
      "8/8 [==============================] - 4s 537ms/step - loss: 0.2998 - conv2d_13_loss: 0.0132 - conv2d_15_loss: 0.0075 - conv2d_17_loss: 0.1412 - conv2d_19_loss: 0.1366 - val_loss: 0.2899 - val_conv2d_13_loss: 0.0342 - val_conv2d_15_loss: 0.0104 - val_conv2d_17_loss: 0.2085 - val_conv2d_19_loss: 0.0369\n",
      "Epoch 4/5\n",
      "8/8 [==============================] - 4s 531ms/step - loss: 0.2990 - conv2d_13_loss: 0.0132 - conv2d_15_loss: 0.0075 - conv2d_17_loss: 0.1430 - conv2d_19_loss: 0.1339 - val_loss: 0.2890 - val_conv2d_13_loss: 0.0342 - val_conv2d_15_loss: 0.0104 - val_conv2d_17_loss: 0.2075 - val_conv2d_19_loss: 0.0368\n",
      "Epoch 5/5\n",
      "8/8 [==============================] - 4s 531ms/step - loss: 0.2998 - conv2d_13_loss: 0.0132 - conv2d_15_loss: 0.0075 - conv2d_17_loss: 0.1410 - conv2d_19_loss: 0.1366 - val_loss: 0.2876 - val_conv2d_13_loss: 0.0342 - val_conv2d_15_loss: 0.0104 - val_conv2d_17_loss: 0.2063 - val_conv2d_19_loss: 0.0367\n",
      "Epoch 1/5\n",
      "8/8 [==============================] - 5s 566ms/step - loss: 0.3477 - conv2d_13_loss: 0.0160 - conv2d_15_loss: 0.0075 - conv2d_17_loss: 0.1815 - conv2d_19_loss: 0.1427 - val_loss: 0.1482 - val_conv2d_13_loss: 0.0157 - val_conv2d_15_loss: 0.0108 - val_conv2d_17_loss: 0.0804 - val_conv2d_19_loss: 0.0413\n",
      "Epoch 2/5\n",
      "8/8 [==============================] - 4s 535ms/step - loss: 0.3471 - conv2d_13_loss: 0.0160 - conv2d_15_loss: 0.0075 - conv2d_17_loss: 0.1810 - conv2d_19_loss: 0.1427 - val_loss: 0.1535 - val_conv2d_13_loss: 0.0157 - val_conv2d_15_loss: 0.0108 - val_conv2d_17_loss: 0.0857 - val_conv2d_19_loss: 0.0413\n",
      "Epoch 3/5\n",
      "8/8 [==============================] - 4s 538ms/step - loss: 0.3473 - conv2d_13_loss: 0.0160 - conv2d_15_loss: 0.0075 - conv2d_17_loss: 0.1812 - conv2d_19_loss: 0.1427 - val_loss: 0.1540 - val_conv2d_13_loss: 0.0157 - val_conv2d_15_loss: 0.0108 - val_conv2d_17_loss: 0.0862 - val_conv2d_19_loss: 0.0413\n",
      "Epoch 4/5\n",
      "8/8 [==============================] - 4s 532ms/step - loss: 0.3481 - conv2d_13_loss: 0.0160 - conv2d_15_loss: 0.0075 - conv2d_17_loss: 0.1820 - conv2d_19_loss: 0.1427 - val_loss: 0.1457 - val_conv2d_13_loss: 0.0157 - val_conv2d_15_loss: 0.0108 - val_conv2d_17_loss: 0.0780 - val_conv2d_19_loss: 0.0413\n",
      "Epoch 5/5\n",
      "8/8 [==============================] - 4s 533ms/step - loss: 0.3473 - conv2d_13_loss: 0.0160 - conv2d_15_loss: 0.0075 - conv2d_17_loss: 0.1812 - conv2d_19_loss: 0.1427 - val_loss: 0.1488 - val_conv2d_13_loss: 0.0157 - val_conv2d_15_loss: 0.0108 - val_conv2d_17_loss: 0.0810 - val_conv2d_19_loss: 0.0413\n"
     ]
    }
   ],
   "source": [
    "kfold = KFold(5)\n",
    "for train_indices, cv_indices in kfold.split(train_cv_image_names):\n",
    "    train_image_names = [train_cv_image_names[i] for i in train_indices]\n",
    "    cv_image_names = [train_cv_image_names[i] for i in cv_indices]\n",
    "    model.fit_generator(\n",
    "        generator=ImageLoader(train_image_names, image_groups, image_masks, 8),\n",
    "        validation_data=ImageLoader(cv_image_names, image_groups, image_masks, 8),\n",
    "        epochs=5)"
   ]
  },
  {
   "cell_type": "code",
   "execution_count": 25,
   "metadata": {},
   "outputs": [],
   "source": [
    "results = model.predict_generator(ImageLoader(test_image_names, image_groups, image_masks, 8))"
   ]
  },
  {
   "cell_type": "code",
   "execution_count": 27,
   "metadata": {},
   "outputs": [
    {
     "name": "stdout",
     "output_type": "stream",
     "text": [
      "009b12ccc 25\n",
      "01c3ef286 25\n",
      "0030401a5 25\n",
      "00af2671f 25\n"
     ]
    }
   ],
   "source": [
    "for name, result in zip(test_image_names, results):\n",
    "    print(name, len(result))"
   ]
  }
 ],
 "metadata": {
  "kernelspec": {
   "display_name": "Python 3",
   "language": "python",
   "name": "python3"
  },
  "language_info": {
   "codemirror_mode": {
    "name": "ipython",
    "version": 3
   },
   "file_extension": ".py",
   "mimetype": "text/x-python",
   "name": "python",
   "nbconvert_exporter": "python",
   "pygments_lexer": "ipython3",
   "version": "3.7.3"
  }
 },
 "nbformat": 4,
 "nbformat_minor": 4
}
