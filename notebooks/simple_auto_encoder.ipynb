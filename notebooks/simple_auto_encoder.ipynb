{
 "cells": [
  {
   "cell_type": "code",
   "execution_count": 1,
   "metadata": {},
   "outputs": [],
   "source": [
    "%load_ext autoreload\n",
    "%autoreload 2\n",
    "\n",
    "%load_ext line_profiler"
   ]
  },
  {
   "cell_type": "code",
   "execution_count": 2,
   "metadata": {
    "_cell_guid": "b1076dfc-b9ad-4769-8c92-a6c4dae69d19",
    "_uuid": "8f2839f25d086af736a60e9eeb907d3b93b6e0e5"
   },
   "outputs": [],
   "source": [
    "# This Python 3 environment comes with many helpful analytics libraries installed\n",
    "# It is defined by the kaggle/python docker image: https://github.com/kaggle/docker-python\n",
    "# For example, here's several helpful packages to load in \n",
    "\n",
    "import numpy as np # linear algebra\n",
    "import pandas as pd # data processing, CSV file I/O (e.g. pd.read_csv)\n",
    "import matplotlib.pyplot as plt\n",
    "from pprint import pprint\n",
    "import os.path as pth\n",
    "\n",
    "import gzip\n",
    "import pickle\n",
    "\n",
    "from tensorflow.keras import Input, Model\n",
    "from tensorflow.keras.layers import Dense, Conv2D, MaxPool2D, UpSampling2D, Add, Flatten, Reshape\n",
    "from tensorflow.keras.utils import Sequence\n",
    "\n",
    "from sklearn.model_selection import train_test_split, KFold, GroupKFold"
   ]
  },
  {
   "cell_type": "markdown",
   "metadata": {
    "_cell_guid": "79c7e3d0-c299-4dcb-8224-4455121ee9b0",
    "_uuid": "d629ff2d2480ee46fbb7e2d37f6b5fab8052498a"
   },
   "source": [
    "for dirname, _, filenames in os.walk('/kaggle/input'):\n",
    "    for filename in filenames:\n",
    "        print(os.path.join(dirname, filename))"
   ]
  },
  {
   "cell_type": "code",
   "execution_count": 3,
   "metadata": {},
   "outputs": [],
   "source": [
    "ROOT_DIR = '../data'\n",
    "TRAIN_IMG_DIR = pth.join(ROOT_DIR, 'original/train_images')\n",
    "TRAIN_DATA_DIR = ROOT_DIR\n",
    "\n",
    "WIDTH=1600\n",
    "HEIGHT=256"
   ]
  },
  {
   "cell_type": "code",
   "execution_count": 4,
   "metadata": {},
   "outputs": [
    {
     "name": "stderr",
     "output_type": "stream",
     "text": [
      "/home/gautham/apps/anaconda3/envs/kaggle/lib/python3.7/site-packages/pyarrow/pandas_compat.py:752: FutureWarning: .labels was deprecated in version 0.24.0. Use .codes instead.\n",
      "  labels, = index.labels\n"
     ]
    }
   ],
   "source": [
    "data = pd.read_feather(pth.join(TRAIN_DATA_DIR, 'train.feather'))"
   ]
  },
  {
   "cell_type": "code",
   "execution_count": 5,
   "metadata": {},
   "outputs": [
    {
     "data": {
      "text/html": [
       "<div>\n",
       "<style scoped>\n",
       "    .dataframe tbody tr th:only-of-type {\n",
       "        vertical-align: middle;\n",
       "    }\n",
       "\n",
       "    .dataframe tbody tr th {\n",
       "        vertical-align: top;\n",
       "    }\n",
       "\n",
       "    .dataframe thead th {\n",
       "        text-align: right;\n",
       "    }\n",
       "</style>\n",
       "<table border=\"1\" class=\"dataframe\">\n",
       "  <thead>\n",
       "    <tr style=\"text-align: right;\">\n",
       "      <th></th>\n",
       "      <th>imageid</th>\n",
       "      <th>classid</th>\n",
       "      <th>mask_present</th>\n",
       "    </tr>\n",
       "  </thead>\n",
       "  <tbody>\n",
       "    <tr>\n",
       "      <th>0</th>\n",
       "      <td>0002cc93b</td>\n",
       "      <td>1</td>\n",
       "      <td>True</td>\n",
       "    </tr>\n",
       "    <tr>\n",
       "      <th>1</th>\n",
       "      <td>0002cc93b</td>\n",
       "      <td>2</td>\n",
       "      <td>False</td>\n",
       "    </tr>\n",
       "    <tr>\n",
       "      <th>2</th>\n",
       "      <td>0002cc93b</td>\n",
       "      <td>3</td>\n",
       "      <td>False</td>\n",
       "    </tr>\n",
       "    <tr>\n",
       "      <th>3</th>\n",
       "      <td>0002cc93b</td>\n",
       "      <td>4</td>\n",
       "      <td>False</td>\n",
       "    </tr>\n",
       "    <tr>\n",
       "      <th>4</th>\n",
       "      <td>00031f466</td>\n",
       "      <td>1</td>\n",
       "      <td>False</td>\n",
       "    </tr>\n",
       "  </tbody>\n",
       "</table>\n",
       "</div>"
      ],
      "text/plain": [
       "     imageid  classid  mask_present\n",
       "0  0002cc93b        1          True\n",
       "1  0002cc93b        2         False\n",
       "2  0002cc93b        3         False\n",
       "3  0002cc93b        4         False\n",
       "4  00031f466        1         False"
      ]
     },
     "execution_count": 5,
     "metadata": {},
     "output_type": "execute_result"
    }
   ],
   "source": [
    "data.head()"
   ]
  },
  {
   "cell_type": "code",
   "execution_count": 6,
   "metadata": {},
   "outputs": [],
   "source": [
    "with gzip.open(pth.join(TRAIN_DATA_DIR, 'train_masks.pickle.gz'), 'rb') as f:\n",
    "    image_masks = pickle.load(f)"
   ]
  },
  {
   "cell_type": "code",
   "execution_count": null,
   "metadata": {},
   "outputs": [],
   "source": []
  },
  {
   "cell_type": "code",
   "execution_count": 7,
   "metadata": {},
   "outputs": [
    {
     "data": {
      "text/plain": [
       "(750, 250)"
      ]
     },
     "execution_count": 7,
     "metadata": {},
     "output_type": "execute_result"
    }
   ],
   "source": [
    "image_groups = data.groupby('imageid')\n",
    "\n",
    "image_names = list(data.imageid.unique())[0:1000]\n",
    "train_cv_image_names, test_image_names = train_test_split(image_names)\n",
    "len(train_cv_image_names), len(test_image_names)"
   ]
  },
  {
   "cell_type": "markdown",
   "metadata": {},
   "source": [
    "from loaders import BlockwiseImageLoader\n",
    "n = 4\n",
    "b = BlockwiseImageLoader(train_cv_image_names[0:10], image_groups, image_masks, n, 128, 64)\n",
    "img_patches, mask_patches = b[0]\n",
    "imgs = b.combine_patches(img_patches)\n",
    "\n",
    "for i in range(n):\n",
    "    name = train_cv_image_names[i]\n",
    "    im = plt.imread(pth.join(TRAIN_IMG_DIR, f'{name}.jpg')).astype('float32')[:, :, 0]\n",
    "    plt.figure()\n",
    "    plt.imshow(im, cmap='gray')\n",
    "    plt.show()\n",
    "    plt.figure()\n",
    "    plt.imshow(imgs[i], cmap='gray')\n",
    "    plt.show()\n"
   ]
  },
  {
   "cell_type": "code",
   "execution_count": null,
   "metadata": {},
   "outputs": [],
   "source": [
    "from loaders import BlockwiseImageLoader\n",
    "\n",
    "BATCH_SIZE = 8\n",
    "PATCH_SIZE = 64\n",
    "PATCH_STRIDE = 32\n",
    "\n",
    "kfold = KFold(5)\n",
    "for train_indices, cv_indices in kfold.split(train_cv_image_names):\n",
    "    train_image_names = [train_cv_image_names[i] for i in train_indices]\n",
    "    cv_image_names = [train_cv_image_names[i] for i in cv_indices]\n",
    "    model.fit_generator(\n",
    "        generator=BlockwiseImageLoader(train_image_names, image_groups, image_masks, \n",
    "                                       BATCH_SIZE, PATCH_SIZE, PATCH_STRIDE),\n",
    "        validation_data=BlockwiseImageLoader(cv_image_names, image_groups, image_masks, \n",
    "                                             BATCH_SIZE, PATCH_SIZE, PATCH_STRIDE),\n",
    "        epochs=5)"
   ]
  },
  {
   "cell_type": "code",
   "execution_count": null,
   "metadata": {},
   "outputs": [],
   "source": [
    "names = test_image_names[0:10]\n",
    "results = model.predict_generator(ImageLoader(names, image_groups, image_masks, 8))"
   ]
  },
  {
   "cell_type": "code",
   "execution_count": null,
   "metadata": {},
   "outputs": [],
   "source": [
    "for i, name in enumerate(names):\n",
    "    im = plt.imread(pth.join(TRAIN_IMG_DIR, f'{name}.jpg')).astype('float32')\n",
    "    im /= 255\n",
    "    \n",
    "    print(name)\n",
    "    plt.figure(figsize=(16, 3))\n",
    "    plt.imshow(im, cmap='gray')\n",
    "    plt.show()\n",
    "    \n",
    "    for j in [1, 2, 3, 4]:\n",
    "        rows = data[(data.imageid == name) & (data.classid == j)]\n",
    "        row = rows.iloc[0, :]\n",
    "\n",
    "        if row.mask_present:\n",
    "            mask_ref = image_masks[f'{name}_{j}']\n",
    "        else:\n",
    "            mask_ref = np.zeros((HEIGHT, WIDTH), dtype='uint8')\n",
    "            \n",
    "        print(name, j, 'REF')\n",
    "        plt.figure(figsize=(16, 3))\n",
    "        plt.imshow(mask_ref, cmap='gray')\n",
    "        plt.show()\n",
    "        \n",
    "        mask_test = results[j - 1][i].squeeze()\n",
    "        #mask_test = (mask_test > 0.5).astype('uint8')\n",
    "        \n",
    "        \n",
    "        print(name, j, 'TEST', np.sum(mask_ref != mask_test))\n",
    "        plt.figure(figsize=(16, 3))\n",
    "        plt.imshow(mask_test, cmap='gray')\n",
    "        plt.show()\n"
   ]
  },
  {
   "cell_type": "code",
   "execution_count": null,
   "metadata": {},
   "outputs": [],
   "source": []
  }
 ],
 "metadata": {
  "kernelspec": {
   "display_name": "Python 3",
   "language": "python",
   "name": "python3"
  },
  "language_info": {
   "codemirror_mode": {
    "name": "ipython",
    "version": 3
   },
   "file_extension": ".py",
   "mimetype": "text/x-python",
   "name": "python",
   "nbconvert_exporter": "python",
   "pygments_lexer": "ipython3",
   "version": "3.7.3"
  }
 },
 "nbformat": 4,
 "nbformat_minor": 4
}
