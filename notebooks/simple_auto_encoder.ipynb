{
 "cells": [
  {
   "cell_type": "code",
   "execution_count": 1,
   "metadata": {},
   "outputs": [],
   "source": [
    "%load_ext autoreload\n",
    "%autoreload 2\n",
    "\n",
    "%load_ext line_profiler"
   ]
  },
  {
   "cell_type": "code",
   "execution_count": 2,
   "metadata": {
    "_cell_guid": "b1076dfc-b9ad-4769-8c92-a6c4dae69d19",
    "_uuid": "8f2839f25d086af736a60e9eeb907d3b93b6e0e5"
   },
   "outputs": [],
   "source": [
    "# This Python 3 environment comes with many helpful analytics libraries installed\n",
    "# It is defined by the kaggle/python docker image: https://github.com/kaggle/docker-python\n",
    "# For example, here's several helpful packages to load in \n",
    "\n",
    "import numpy as np # linear algebra\n",
    "import pandas as pd # data processing, CSV file I/O (e.g. pd.read_csv)\n",
    "import matplotlib.pyplot as plt\n",
    "from pprint import pprint\n",
    "import os.path as pth\n",
    "\n",
    "import gzip\n",
    "import pickle\n",
    "\n",
    "from tensorflow.keras import Input, Model\n",
    "from tensorflow.keras.layers import Dense, Conv2D, MaxPool2D, UpSampling2D, Add, Flatten, Reshape\n",
    "from tensorflow.keras.utils import Sequence\n",
    "\n",
    "from sklearn.model_selection import train_test_split, KFold, GroupKFold"
   ]
  },
  {
   "cell_type": "markdown",
   "metadata": {
    "_cell_guid": "79c7e3d0-c299-4dcb-8224-4455121ee9b0",
    "_uuid": "d629ff2d2480ee46fbb7e2d37f6b5fab8052498a"
   },
   "source": [
    "for dirname, _, filenames in os.walk('/kaggle/input'):\n",
    "    for filename in filenames:\n",
    "        print(os.path.join(dirname, filename))"
   ]
  },
  {
   "cell_type": "code",
   "execution_count": 3,
   "metadata": {},
   "outputs": [],
   "source": [
    "ROOT_DIR = '../data'\n",
    "TRAIN_IMG_DIR = pth.join(ROOT_DIR, 'original/train_images')\n",
    "TRAIN_DATA_DIR = ROOT_DIR\n",
    "\n",
    "WIDTH=1600\n",
    "HEIGHT=256"
   ]
  },
  {
   "cell_type": "code",
   "execution_count": 4,
   "metadata": {},
   "outputs": [
    {
     "name": "stderr",
     "output_type": "stream",
     "text": [
      "/home/gautham/apps/anaconda3/envs/kaggle/lib/python3.7/site-packages/pyarrow/pandas_compat.py:752: FutureWarning: .labels was deprecated in version 0.24.0. Use .codes instead.\n",
      "  labels, = index.labels\n"
     ]
    }
   ],
   "source": [
    "data = pd.read_feather(pth.join(TRAIN_DATA_DIR, 'train.feather'))"
   ]
  },
  {
   "cell_type": "code",
   "execution_count": 5,
   "metadata": {},
   "outputs": [
    {
     "data": {
      "text/html": [
       "<div>\n",
       "<style scoped>\n",
       "    .dataframe tbody tr th:only-of-type {\n",
       "        vertical-align: middle;\n",
       "    }\n",
       "\n",
       "    .dataframe tbody tr th {\n",
       "        vertical-align: top;\n",
       "    }\n",
       "\n",
       "    .dataframe thead th {\n",
       "        text-align: right;\n",
       "    }\n",
       "</style>\n",
       "<table border=\"1\" class=\"dataframe\">\n",
       "  <thead>\n",
       "    <tr style=\"text-align: right;\">\n",
       "      <th></th>\n",
       "      <th>imageid</th>\n",
       "      <th>classid</th>\n",
       "      <th>mask_present</th>\n",
       "    </tr>\n",
       "  </thead>\n",
       "  <tbody>\n",
       "    <tr>\n",
       "      <th>0</th>\n",
       "      <td>0002cc93b</td>\n",
       "      <td>1</td>\n",
       "      <td>True</td>\n",
       "    </tr>\n",
       "    <tr>\n",
       "      <th>1</th>\n",
       "      <td>0002cc93b</td>\n",
       "      <td>2</td>\n",
       "      <td>False</td>\n",
       "    </tr>\n",
       "    <tr>\n",
       "      <th>2</th>\n",
       "      <td>0002cc93b</td>\n",
       "      <td>3</td>\n",
       "      <td>False</td>\n",
       "    </tr>\n",
       "    <tr>\n",
       "      <th>3</th>\n",
       "      <td>0002cc93b</td>\n",
       "      <td>4</td>\n",
       "      <td>False</td>\n",
       "    </tr>\n",
       "    <tr>\n",
       "      <th>4</th>\n",
       "      <td>00031f466</td>\n",
       "      <td>1</td>\n",
       "      <td>False</td>\n",
       "    </tr>\n",
       "  </tbody>\n",
       "</table>\n",
       "</div>"
      ],
      "text/plain": [
       "     imageid  classid  mask_present\n",
       "0  0002cc93b        1          True\n",
       "1  0002cc93b        2         False\n",
       "2  0002cc93b        3         False\n",
       "3  0002cc93b        4         False\n",
       "4  00031f466        1         False"
      ]
     },
     "execution_count": 5,
     "metadata": {},
     "output_type": "execute_result"
    }
   ],
   "source": [
    "data.head()"
   ]
  },
  {
   "cell_type": "code",
   "execution_count": 6,
   "metadata": {},
   "outputs": [],
   "source": [
    "with gzip.open(pth.join(TRAIN_DATA_DIR, 'train_masks.pickle.gz'), 'rb') as f:\n",
    "    image_masks = pickle.load(f)"
   ]
  },
  {
   "cell_type": "code",
   "execution_count": null,
   "metadata": {},
   "outputs": [],
   "source": []
  },
  {
   "cell_type": "code",
   "execution_count": 7,
   "metadata": {},
   "outputs": [
    {
     "data": {
      "text/plain": [
       "(750, 250)"
      ]
     },
     "execution_count": 7,
     "metadata": {},
     "output_type": "execute_result"
    }
   ],
   "source": [
    "image_groups = data.groupby('imageid')\n",
    "\n",
    "image_names = list(data.imageid.unique())[0:1000]\n",
    "train_cv_image_names, test_image_names = train_test_split(image_names)\n",
    "len(train_cv_image_names), len(test_image_names)"
   ]
  },
  {
   "cell_type": "markdown",
   "metadata": {},
   "source": [
    "from loaders import BlockwiseImageLoader\n",
    "n = 4\n",
    "b = BlockwiseImageLoader(train_cv_image_names[0:10], image_groups, image_masks, n, 128, 64)\n",
    "img_patches, mask_patches = b[0]\n",
    "imgs = b.combine_patches(img_patches)\n",
    "\n",
    "for i in range(n):\n",
    "    name = train_cv_image_names[i]\n",
    "    im = plt.imread(pth.join(TRAIN_IMG_DIR, f'{name}.jpg')).astype('float32')[:, :, 0]\n",
    "    plt.figure()\n",
    "    plt.imshow(im, cmap='gray')\n",
    "    plt.show()\n",
    "    plt.figure()\n",
    "    plt.imshow(imgs[i], cmap='gray')\n",
    "    plt.show()\n"
   ]
  },
  {
   "cell_type": "code",
   "execution_count": 15,
   "metadata": {},
   "outputs": [
    {
     "name": "stdout",
     "output_type": "stream",
     "text": [
      "Model: \"model_5\"\n",
      "__________________________________________________________________________________________________\n",
      "Layer (type)                    Output Shape         Param #     Connected to                     \n",
      "==================================================================================================\n",
      "input_7 (InputLayer)            [(None, 64, 64, 1)]  0                                            \n",
      "__________________________________________________________________________________________________\n",
      "conv2d_113 (Conv2D)             (None, 64, 64, 16)   32          input_7[0][0]                    \n",
      "__________________________________________________________________________________________________\n",
      "conv2d_115 (Conv2D)             (None, 64, 64, 16)   32          input_7[0][0]                    \n",
      "__________________________________________________________________________________________________\n",
      "conv2d_117 (Conv2D)             (None, 64, 64, 16)   32          input_7[0][0]                    \n",
      "__________________________________________________________________________________________________\n",
      "conv2d_114 (Conv2D)             (None, 64, 64, 16)   2320        conv2d_113[0][0]                 \n",
      "__________________________________________________________________________________________________\n",
      "conv2d_116 (Conv2D)             (None, 64, 64, 16)   6416        conv2d_115[0][0]                 \n",
      "__________________________________________________________________________________________________\n",
      "conv2d_118 (Conv2D)             (None, 64, 64, 16)   12560       conv2d_117[0][0]                 \n",
      "__________________________________________________________________________________________________\n",
      "add_12 (Add)                    (None, 64, 64, 16)   0           conv2d_114[0][0]                 \n",
      "                                                                 conv2d_116[0][0]                 \n",
      "                                                                 conv2d_118[0][0]                 \n",
      "__________________________________________________________________________________________________\n",
      "max_pooling2d_12 (MaxPooling2D) (None, 32, 16, 16)   0           add_12[0][0]                     \n",
      "__________________________________________________________________________________________________\n",
      "conv2d_119 (Conv2D)             (None, 32, 16, 16)   272         max_pooling2d_12[0][0]           \n",
      "__________________________________________________________________________________________________\n",
      "conv2d_121 (Conv2D)             (None, 32, 16, 16)   272         max_pooling2d_12[0][0]           \n",
      "__________________________________________________________________________________________________\n",
      "conv2d_123 (Conv2D)             (None, 32, 16, 16)   272         max_pooling2d_12[0][0]           \n",
      "__________________________________________________________________________________________________\n",
      "conv2d_120 (Conv2D)             (None, 32, 16, 16)   2320        conv2d_119[0][0]                 \n",
      "__________________________________________________________________________________________________\n",
      "conv2d_122 (Conv2D)             (None, 32, 16, 16)   6416        conv2d_121[0][0]                 \n",
      "__________________________________________________________________________________________________\n",
      "conv2d_124 (Conv2D)             (None, 32, 16, 16)   12560       conv2d_123[0][0]                 \n",
      "__________________________________________________________________________________________________\n",
      "add_13 (Add)                    (None, 32, 16, 16)   0           conv2d_120[0][0]                 \n",
      "                                                                 conv2d_122[0][0]                 \n",
      "                                                                 conv2d_124[0][0]                 \n",
      "__________________________________________________________________________________________________\n",
      "max_pooling2d_13 (MaxPooling2D) (None, 16, 4, 16)    0           add_13[0][0]                     \n",
      "__________________________________________________________________________________________________\n",
      "up_sampling2d_41 (UpSampling2D) (None, 32, 16, 16)   0           max_pooling2d_13[0][0]           \n",
      "__________________________________________________________________________________________________\n",
      "up_sampling2d_43 (UpSampling2D) (None, 32, 16, 16)   0           max_pooling2d_13[0][0]           \n",
      "__________________________________________________________________________________________________\n",
      "up_sampling2d_45 (UpSampling2D) (None, 32, 16, 16)   0           max_pooling2d_13[0][0]           \n",
      "__________________________________________________________________________________________________\n",
      "up_sampling2d_47 (UpSampling2D) (None, 32, 16, 16)   0           max_pooling2d_13[0][0]           \n",
      "__________________________________________________________________________________________________\n",
      "conv2d_125 (Conv2D)             (None, 32, 16, 16)   2320        up_sampling2d_41[0][0]           \n",
      "__________________________________________________________________________________________________\n",
      "conv2d_127 (Conv2D)             (None, 32, 16, 16)   2320        up_sampling2d_43[0][0]           \n",
      "__________________________________________________________________________________________________\n",
      "conv2d_129 (Conv2D)             (None, 32, 16, 16)   2320        up_sampling2d_45[0][0]           \n",
      "__________________________________________________________________________________________________\n",
      "conv2d_131 (Conv2D)             (None, 32, 16, 16)   2320        up_sampling2d_47[0][0]           \n",
      "__________________________________________________________________________________________________\n",
      "up_sampling2d_42 (UpSampling2D) (None, 64, 64, 16)   0           conv2d_125[0][0]                 \n",
      "__________________________________________________________________________________________________\n",
      "up_sampling2d_44 (UpSampling2D) (None, 64, 64, 16)   0           conv2d_127[0][0]                 \n",
      "__________________________________________________________________________________________________\n",
      "up_sampling2d_46 (UpSampling2D) (None, 64, 64, 16)   0           conv2d_129[0][0]                 \n",
      "__________________________________________________________________________________________________\n",
      "up_sampling2d_48 (UpSampling2D) (None, 64, 64, 16)   0           conv2d_131[0][0]                 \n",
      "__________________________________________________________________________________________________\n",
      "conv2d_126 (Conv2D)             (None, 64, 64, 1)    145         up_sampling2d_42[0][0]           \n",
      "__________________________________________________________________________________________________\n",
      "conv2d_128 (Conv2D)             (None, 64, 64, 1)    145         up_sampling2d_44[0][0]           \n",
      "__________________________________________________________________________________________________\n",
      "conv2d_130 (Conv2D)             (None, 64, 64, 1)    145         up_sampling2d_46[0][0]           \n",
      "__________________________________________________________________________________________________\n",
      "conv2d_132 (Conv2D)             (None, 64, 64, 1)    145         up_sampling2d_48[0][0]           \n",
      "==================================================================================================\n",
      "Total params: 53,364\n",
      "Trainable params: 53,364\n",
      "Non-trainable params: 0\n",
      "__________________________________________________________________________________________________\n"
     ]
    }
   ],
   "source": [
    "from models import SimpleInception\n",
    "\n",
    "model = SimpleInception(16, 64)\n",
    "model.build_model()\n",
    "model.summary()"
   ]
  },
  {
   "cell_type": "code",
   "execution_count": 17,
   "metadata": {},
   "outputs": [
    {
     "name": "stdout",
     "output_type": "stream",
     "text": [
      "Epoch 1/5\n",
      "375/375 [==============================] - 102s 273ms/step - loss: 0.5201 - conv2d_126_loss: 0.0160 - conv2d_128_loss: 0.0042 - conv2d_130_loss: 0.4249 - conv2d_132_loss: 0.0750 - val_loss: 0.4998 - val_conv2d_126_loss: 0.0123 - val_conv2d_128_loss: 0.0022 - val_conv2d_130_loss: 0.4016 - val_conv2d_132_loss: 0.0837\n",
      "Epoch 2/5\n",
      "375/375 [==============================] - 102s 272ms/step - loss: 0.5206 - conv2d_126_loss: 0.0165 - conv2d_128_loss: 0.0042 - conv2d_130_loss: 0.4249 - conv2d_132_loss: 0.0750 - val_loss: 0.4998 - val_conv2d_126_loss: 0.0123 - val_conv2d_128_loss: 0.0022 - val_conv2d_130_loss: 0.4016 - val_conv2d_132_loss: 0.0837\n",
      "Epoch 3/5\n",
      "375/375 [==============================] - 102s 271ms/step - loss: 0.5206 - conv2d_126_loss: 0.0165 - conv2d_128_loss: 0.0042 - conv2d_130_loss: 0.4249 - conv2d_132_loss: 0.0750 - val_loss: 0.4998 - val_conv2d_126_loss: 0.0123 - val_conv2d_128_loss: 0.0022 - val_conv2d_130_loss: 0.4016 - val_conv2d_132_loss: 0.0837\n",
      "Epoch 4/5\n",
      "375/375 [==============================] - 102s 272ms/step - loss: 0.5206 - conv2d_126_loss: 0.0165 - conv2d_128_loss: 0.0042 - conv2d_130_loss: 0.4249 - conv2d_132_loss: 0.0750 - val_loss: 0.4998 - val_conv2d_126_loss: 0.0123 - val_conv2d_128_loss: 0.0022 - val_conv2d_130_loss: 0.4016 - val_conv2d_132_loss: 0.0837\n",
      "Epoch 5/5\n",
      "375/375 [==============================] - 102s 271ms/step - loss: 0.5206 - conv2d_126_loss: 0.0165 - conv2d_128_loss: 0.0042 - conv2d_130_loss: 0.4249 - conv2d_132_loss: 0.0750 - val_loss: 0.4998 - val_conv2d_126_loss: 0.0123 - val_conv2d_128_loss: 0.0022 - val_conv2d_130_loss: 0.4016 - val_conv2d_132_loss: 0.0837\n",
      "Epoch 1/5\n",
      "375/375 [==============================] - 101s 270ms/step - loss: 0.4998 - conv2d_126_loss: 0.0123 - conv2d_128_loss: 0.0022 - conv2d_130_loss: 0.4016 - conv2d_132_loss: 0.0837 - val_loss: 0.5206 - val_conv2d_126_loss: 0.0165 - val_conv2d_128_loss: 0.0042 - val_conv2d_130_loss: 0.4249 - val_conv2d_132_loss: 0.0750\n",
      "Epoch 2/5\n",
      "375/375 [==============================] - 101s 270ms/step - loss: 0.4998 - conv2d_126_loss: 0.0123 - conv2d_128_loss: 0.0022 - conv2d_130_loss: 0.4016 - conv2d_132_loss: 0.0837 - val_loss: 0.5206 - val_conv2d_126_loss: 0.0165 - val_conv2d_128_loss: 0.0042 - val_conv2d_130_loss: 0.4249 - val_conv2d_132_loss: 0.0750\n",
      "Epoch 3/5\n",
      "375/375 [==============================] - 102s 273ms/step - loss: 0.4998 - conv2d_126_loss: 0.0123 - conv2d_128_loss: 0.0022 - conv2d_130_loss: 0.4016 - conv2d_132_loss: 0.0837 - val_loss: 0.5206 - val_conv2d_126_loss: 0.0165 - val_conv2d_128_loss: 0.0042 - val_conv2d_130_loss: 0.4249 - val_conv2d_132_loss: 0.0750\n",
      "Epoch 4/5\n",
      "375/375 [==============================] - 101s 270ms/step - loss: 0.4998 - conv2d_126_loss: 0.0123 - conv2d_128_loss: 0.0022 - conv2d_130_loss: 0.4016 - conv2d_132_loss: 0.0837 - val_loss: 0.5206 - val_conv2d_126_loss: 0.0165 - val_conv2d_128_loss: 0.0042 - val_conv2d_130_loss: 0.4249 - val_conv2d_132_loss: 0.0750\n",
      "Epoch 5/5\n",
      "375/375 [==============================] - 102s 272ms/step - loss: 0.4998 - conv2d_126_loss: 0.0123 - conv2d_128_loss: 0.0022 - conv2d_130_loss: 0.4016 - conv2d_132_loss: 0.0837 - val_loss: 0.5206 - val_conv2d_126_loss: 0.0165 - val_conv2d_128_loss: 0.0042 - val_conv2d_130_loss: 0.4249 - val_conv2d_132_loss: 0.0750\n"
     ]
    }
   ],
   "source": [
    "from loaders import BlockwiseImageLoader\n",
    "\n",
    "BATCH_SIZE = 1\n",
    "PATCH_SIZE = 64\n",
    "PATCH_STRIDE = 32\n",
    "\n",
    "kfold = KFold(2)\n",
    "\n",
    "for train_indices, cv_indices in kfold.split(train_cv_image_names):\n",
    "    train_image_names = [train_cv_image_names[i] for i in train_indices]\n",
    "    cv_image_names = [train_cv_image_names[i] for i in cv_indices]\n",
    "    model.fit_generator(\n",
    "        generator=BlockwiseImageLoader(train_image_names, image_groups, image_masks, \n",
    "                                       BATCH_SIZE, PATCH_SIZE, PATCH_STRIDE),\n",
    "        validation_data=BlockwiseImageLoader(cv_image_names, image_groups, image_masks, \n",
    "                                             BATCH_SIZE, PATCH_SIZE, PATCH_STRIDE),\n",
    "        epochs=5)"
   ]
  },
  {
   "cell_type": "code",
   "execution_count": 23,
   "metadata": {},
   "outputs": [
    {
     "data": {
      "text/plain": [
       "dict_keys(['loss', 'conv2d_126_loss', 'conv2d_128_loss', 'conv2d_130_loss', 'conv2d_132_loss', 'val_loss', 'val_conv2d_126_loss', 'val_conv2d_128_loss', 'val_conv2d_130_loss', 'val_conv2d_132_loss'])"
      ]
     },
     "execution_count": 23,
     "metadata": {},
     "output_type": "execute_result"
    }
   ],
   "source": [
    "model.model.history.history.keys()"
   ]
  },
  {
   "cell_type": "code",
   "execution_count": 31,
   "metadata": {},
   "outputs": [
    {
     "name": "stderr",
     "output_type": "stream",
     "text": [
      "/home/gautham/apps/anaconda3/envs/kaggle/lib/python3.7/site-packages/ipykernel_launcher.py:11: UserWarning: Attempting to set identical bottom == top == 0.49976772139966485 results in singular transformations; automatically expanding.\n",
      "  # This is added back by InteractiveShellApp.init_path()\n"
     ]
    },
    {
     "data": {
      "image/png": "[encoded data removed]",
      "text/plain": [
       "<Figure size 432x288 with 1 Axes>"
      ]
     },
     "metadata": {
      "needs_background": "light"
     },
     "output_type": "display_data"
    }
   ],
   "source": [
    "def plot_history(history, keys=['loss', 'val_loss']):\n",
    "    if len(keys) == 0:\n",
    "        return\n",
    "    \n",
    "    n = 3\n",
    "    primary = np.array(history[keys[0]])\n",
    "    ymin = primary.mean() - primary.std() * n\n",
    "    ymax = primary.mean() + primary.std() * n\n",
    "    \n",
    "    plt.figure()\n",
    "    plt.ylim(ymin, ymax)\n",
    "    for key in keys:\n",
    "        if key in history.keys():\n",
    "            plt.plot(history[key], label=key)\n",
    "        else:\n",
    "            print(f'Unable to plot {key}')\n",
    "    plt.legend()\n",
    "    plt.show()\n",
    "    \n",
    "plot_history(model.model.history.history)\n",
    "    "
   ]
  },
  {
   "cell_type": "code",
   "execution_count": null,
   "metadata": {},
   "outputs": [],
   "source": [
    "names = test_image_names[0:10]\n",
    "results = model.predict_generator(ImageLoader(names, image_groups, image_masks, 8))"
   ]
  },
  {
   "cell_type": "code",
   "execution_count": null,
   "metadata": {},
   "outputs": [],
   "source": [
    "for i, name in enumerate(names):\n",
    "    im = plt.imread(pth.join(TRAIN_IMG_DIR, f'{name}.jpg')).astype('float32')\n",
    "    im /= 255\n",
    "    \n",
    "    print(name)\n",
    "    plt.figure(figsize=(16, 3))\n",
    "    plt.imshow(im, cmap='gray')\n",
    "    plt.show()\n",
    "    \n",
    "    for j in [1, 2, 3, 4]:\n",
    "        rows = data[(data.imageid == name) & (data.classid == j)]\n",
    "        row = rows.iloc[0, :]\n",
    "\n",
    "        if row.mask_present:\n",
    "            mask_ref = image_masks[f'{name}_{j}']\n",
    "        else:\n",
    "            mask_ref = np.zeros((HEIGHT, WIDTH), dtype='uint8')\n",
    "            \n",
    "        print(name, j, 'REF')\n",
    "        plt.figure(figsize=(16, 3))\n",
    "        plt.imshow(mask_ref, cmap='gray')\n",
    "        plt.show()\n",
    "        \n",
    "        mask_test = results[j - 1][i].squeeze()\n",
    "        #mask_test = (mask_test > 0.5).astype('uint8')\n",
    "        \n",
    "        \n",
    "        print(name, j, 'TEST', np.sum(mask_ref != mask_test))\n",
    "        plt.figure(figsize=(16, 3))\n",
    "        plt.imshow(mask_test, cmap='gray')\n",
    "        plt.show()\n"
   ]
  },
  {
   "cell_type": "code",
   "execution_count": null,
   "metadata": {},
   "outputs": [],
   "source": []
  }
 ],
 "metadata": {
  "kernelspec": {
   "display_name": "Python 3",
   "language": "python",
   "name": "python3"
  },
  "language_info": {
   "codemirror_mode": {
    "name": "ipython",
    "version": 3
   },
   "file_extension": ".py",
   "mimetype": "text/x-python",
   "name": "python",
   "nbconvert_exporter": "python",
   "pygments_lexer": "ipython3",
   "version": "3.7.3"
  }
 },
 "nbformat": 4,
 "nbformat_minor": 4
}
